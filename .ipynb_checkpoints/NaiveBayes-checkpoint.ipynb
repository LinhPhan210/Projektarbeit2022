{
 "cells": [
  {
   "cell_type": "code",
   "execution_count": 1,
   "id": "0adfbc9d",
   "metadata": {},
   "outputs": [],
   "source": [
    "# Random Forest Classifier\n",
    "\n",
    "# Importing the libraries\n",
    "\n",
    "import numpy as np\n",
    "import matplotlib.pyplot as plt\n",
    "import pandas as pd\n"
   ]
  },
  {
   "cell_type": "code",
   "execution_count": 6,
   "id": "c1e5098c",
   "metadata": {},
   "outputs": [],
   "source": [
    "datasets = pd.read_csv(\"./not_GMT.csv\")\n",
    "features = datasets.iloc[0:365, list(range(4,100))].values #test 2019-H1\n",
    "labels = datasets.iloc[0:365, 100].values\n"
   ]
  },
  {
   "cell_type": "code",
   "execution_count": 7,
   "id": "f77e3cf2",
   "metadata": {},
   "outputs": [],
   "source": [
    "def classify_time_series(time_series, labels):\n",
    "  from sklearn.naive_bayes import GaussianNB\n",
    "  from sklearn.preprocessing import StandardScaler\n",
    "  from sklearn.model_selection import train_test_split\n",
    "\n",
    "  # Scale the time series data\n",
    "  scaler = StandardScaler()\n",
    "  time_series_scaled = scaler.fit_transform(time_series)\n",
    "\n",
    "  # Split the data into training and test sets\n",
    "  X_train, X_test, y_train, y_test = train_test_split(time_series_scaled, labels, test_size=0.2, random_state=0)\n",
    "\n",
    "  # Train the Naive Bayes classifier\n",
    "  clf = GaussianNB()\n",
    "  clf.fit(X_train, y_train)\n",
    "\n",
    "  # Make predictions on the test set\n",
    "  y_pred = clf.predict(X_test)\n",
    "\n",
    "  # Calculate the accuracy of the predictions\n",
    "  accuracy = clf.score(X_test, y_test)\n",
    "\n",
    "  return accuracy\n"
   ]
  },
  {
   "cell_type": "code",
   "execution_count": 8,
   "id": "51e356db",
   "metadata": {},
   "outputs": [
    {
     "name": "stdout",
     "output_type": "stream",
     "text": [
      "Accuracy: 0.68\n"
     ]
    }
   ],
   "source": [
    "accuracy = classify_time_series(features, labels)\n",
    "print(f'Accuracy: {accuracy:.2f}')"
   ]
  },
  {
   "cell_type": "code",
   "execution_count": null,
   "id": "cdb6112f",
   "metadata": {},
   "outputs": [],
   "source": []
  }
 ],
 "metadata": {
  "kernelspec": {
   "display_name": "Python 3 (ipykernel)",
   "language": "python",
   "name": "python3"
  },
  "language_info": {
   "codemirror_mode": {
    "name": "ipython",
    "version": 3
   },
   "file_extension": ".py",
   "mimetype": "text/x-python",
   "name": "python",
   "nbconvert_exporter": "python",
   "pygments_lexer": "ipython3",
   "version": "3.8.10"
  }
 },
 "nbformat": 4,
 "nbformat_minor": 5
}
