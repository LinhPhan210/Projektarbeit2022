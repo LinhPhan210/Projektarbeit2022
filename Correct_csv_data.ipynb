{
 "cells": [
  {
   "cell_type": "markdown",
   "id": "cbcf2135",
   "metadata": {},
   "source": [
    "# Do this follow blocks if your excel does not show correctly"
   ]
  },
  {
   "cell_type": "code",
   "execution_count": null,
   "id": "83d8ceca",
   "metadata": {},
   "outputs": [],
   "source": [
    "import os     #create path of file/folder\n",
    "import shutil #to remove folder with file\n",
    "\n",
    "import pandas as pd #Using pandas to read csv data"
   ]
  },
  {
   "cell_type": "code",
   "execution_count": null,
   "id": "ced5a0d2",
   "metadata": {},
   "outputs": [],
   "source": [
    "folderList = ['2018', '2019', '2020'] #folder with old csv\n",
    "folderListFixed = [x + '_fixed' for x in folderList] #recreated csv file"
   ]
  },
  {
   "cell_type": "markdown",
   "id": "f9742b68",
   "metadata": {},
   "source": [
    "```python\n",
    "#Run this code to remove all recreated csv file\n",
    "currDir = './'\n",
    "for folder in folderListFixed:\n",
    "    newDir = folder    \n",
    "    path = os.path.join(currDir, newDir)    \n",
    "    shutil.rmtree(path)\n",
    "```"
   ]
  },
  {
   "cell_type": "code",
   "execution_count": 39,
   "id": "e0df0e5b",
   "metadata": {},
   "outputs": [
    {
     "name": "stdout",
     "output_type": "stream",
     "text": [
      "done2018_fixed/H1.csv\n",
      "done2018_fixed/H2.csv\n",
      "done2018_fixed/H3.csv\n",
      "done2018_fixed/H4.csv\n",
      "done2018_fixed/H5.csv\n",
      "done2018_fixed/H6.csv\n",
      "done2018_fixed/H7.csv\n",
      "done2018_fixed/H8.csv\n",
      "done2019_fixed/H1.csv\n",
      "done2019_fixed/H2.csv\n",
      "done2019_fixed/H3.csv\n",
      "done2019_fixed/H4.csv\n",
      "done2019_fixed/H5.csv\n",
      "done2019_fixed/H6.csv\n",
      "done2019_fixed/H7.csv\n",
      "done2019_fixed/H8.csv\n",
      "done2020_fixed/H1.csv\n",
      "done2020_fixed/H2.csv\n",
      "done2020_fixed/H3.csv\n",
      "done2020_fixed/H4.csv\n",
      "done2020_fixed/H5.csv\n",
      "done2020_fixed/H6.csv\n",
      "done2020_fixed/H7.csv\n",
      "done2020_fixed/H8.csv\n"
     ]
    }
   ],
   "source": [
    "#create folder for the recreated csv files\n",
    "currDir = './'\n",
    "for folder in folderListFixed:\n",
    "    newDir = folder\n",
    "    path = os.path.join(currDir, newDir)\n",
    "    if os.path.isdir(path) == False: #create new folder if not exist\n",
    "        os.mkdir(path)\n",
    "\n",
    "for i in range(len(folderList)):\n",
    "    \n",
    "    folder = folderList[i]\n",
    "    folderFixed = folderListFixed[i]\n",
    "    \n",
    "    csvFiles = os.listdir(folder) #get list of csv files in the folder\n",
    "    \n",
    "    for csvFile in csvFiles:\n",
    "        csvFileString = folder + \"/\" + csvFile #to read\n",
    "        csvFileConverted = folderFixed + \"/\" + csvFile #to write\n",
    "        #read data\n",
    "        data = pd.read_csv(csvFileString, delimiter=';', low_memory=False)\n",
    "        #write data\n",
    "        data.to_csv(csvFileConverted)\n",
    "        print(\"done \" + csvFileConverted)"
   ]
  },
  {
   "cell_type": "markdown",
   "id": "6782d9d9",
   "metadata": {},
   "source": [
    "iopub data rate exceeded. the notebook server will temporarily stop sending output\n",
    "Running: jupyter notebook --NotebookApp.iopub_data_rate_limit=1.0e10"
   ]
  },
  {
   "cell_type": "markdown",
   "id": "7a2715c5",
   "metadata": {},
   "source": [
    "```python\n",
    "#for specific year and household / delete file before recreated\n",
    "#else: error\n",
    "year = '2018'\n",
    "household = 'H1'\n",
    "data = pd.read_csv('{fyear}/{fhouse}.csv'.format(fyear = year, fhouse = household), delimiter=';')\n",
    "data.to_csv('{fyear}_fixed/{fhouse}.csv'.format(fyear = year, fhouse = household))\n",
    "```"
   ]
  }
 ],
 "metadata": {
  "kernelspec": {
   "display_name": "Python 3.8 (tensorflow-gpu)",
   "language": "python",
   "name": "tensorflow-gpu"
  },
  "language_info": {
   "codemirror_mode": {
    "name": "ipython",
    "version": 3
   },
   "file_extension": ".py",
   "mimetype": "text/x-python",
   "name": "python",
   "nbconvert_exporter": "python",
   "pygments_lexer": "ipython3",
   "version": "3.8.13"
  }
 },
 "nbformat": 4,
 "nbformat_minor": 5
}
