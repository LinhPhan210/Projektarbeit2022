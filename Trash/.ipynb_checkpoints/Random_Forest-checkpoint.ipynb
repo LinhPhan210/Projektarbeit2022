{
 "cells": [
  {
   "cell_type": "code",
   "execution_count": 1,
   "id": "0adfbc9d",
   "metadata": {},
   "outputs": [],
   "source": [
    "# Random Forest Classifier\n",
    "\n",
    "# Importing the libraries\n",
    "\n",
    "import numpy as np\n",
    "import matplotlib.pyplot as plt\n",
    "import pandas as pd\n"
   ]
  },
  {
   "cell_type": "code",
   "execution_count": 2,
   "id": "8cefdaab",
   "metadata": {},
   "outputs": [],
   "source": [
    "# Importing the datasets\n",
    "\n",
    "datasets = pd.read_csv(\"./.csv\")\n",
    "X = datasets.iloc[0:365, list(range(2,102))].values #test 2019-H1\n",
    "Y = datasets.iloc[0:365, 102].values"
   ]
  },
  {
   "cell_type": "markdown",
   "id": "70999cd9",
   "metadata": {},
   "source": [
    "```python\n",
    "n_estimator\n",
    "\n",
    "77 0.7391304347826086\n",
    "78 0.7391304347826086\n",
    "79 0.75\n",
    "80 0.7608695652173914\n",
    "81 0.7717391304347826\n",
    "82 0.7608695652173914\n",
    "83 0.7608695652173914\n",
    "84 0.7608695652173914\n",
    "85 0.7717391304347826\n",
    "86 0.7717391304347826\n",
    "87 0.7717391304347826\n",
    "88 0.7608695652173914\n",
    "89 0.7608695652173914\n",
    "90 0.7608695652173914\n",
    "91 0.7608695652173914\n",
    "92 0.7608695652173914\n",
    "93 0.7717391304347826\n",
    "94 0.75\n",
    "95 0.75\n",
    "96 0.7391304347826086\n",
    "97 0.7391304347826086\n",
    "```"
   ]
  },
  {
   "cell_type": "code",
   "execution_count": null,
   "id": "d1c44aeb",
   "metadata": {},
   "outputs": [],
   "source": []
  },
  {
   "cell_type": "code",
   "execution_count": 3,
   "id": "649db5ca",
   "metadata": {
    "scrolled": true
   },
   "outputs": [
    {
     "name": "stdout",
     "output_type": "stream",
     "text": [
      "77 0.7391304347826086\n",
      "78 0.75\n",
      "79 0.75\n",
      "80 0.75\n",
      "81 0.7608695652173914\n",
      "82 0.75\n",
      "83 0.75\n",
      "84 0.7391304347826086\n",
      "85 0.75\n",
      "86 0.7391304347826086\n",
      "87 0.7391304347826086\n",
      "88 0.7608695652173914\n",
      "89 0.75\n",
      "90 0.7608695652173914\n",
      "91 0.75\n",
      "92 0.7391304347826086\n",
      "93 0.75\n",
      "94 0.7391304347826086\n",
      "95 0.7391304347826086\n",
      "96 0.7282608695652174\n"
     ]
    }
   ],
   "source": [
    "# Splitting the dataset into the Training set and Test set\n",
    "\n",
    "from sklearn.model_selection import train_test_split\n",
    "X_Train, X_Test, Y_Train, Y_Test = train_test_split(X, Y, test_size = 0.25, random_state = 30)\n",
    "\n",
    "# Feature Scaling\n",
    "\n",
    "from sklearn.preprocessing import StandardScaler\n",
    "sc_X = StandardScaler()\n",
    "X_Train = sc_X.fit_transform(X_Train)\n",
    "X_Test = sc_X.transform(X_Test)\n",
    "\n",
    "# Fitting the classifier into the Training set\n",
    "for i in range(77,97):\n",
    "    from sklearn.ensemble import RandomForestClassifier\n",
    "    classifier = RandomForestClassifier(n_estimators = i, criterion = 'entropy', random_state = 20)\n",
    "    classifier.fit(X_Train,Y_Train)\n",
    "\n",
    "    print(i, classifier.score(X_Test, Y_Test))"
   ]
  },
  {
   "cell_type": "code",
   "execution_count": 7,
   "id": "2159c7a8",
   "metadata": {},
   "outputs": [
    {
     "name": "stdout",
     "output_type": "stream",
     "text": [
      "[3. 3. 2. 3. 1. 0. 0. 0. 0. 1.]\n"
     ]
    }
   ],
   "source": [
    "X_t = datasets.iloc[50:60, list(range(2,102))].values\n",
    "X_t = sc_X.transform(X_t)\n",
    "Y_p = classifier.predict(X_t)\n",
    "print(Y_p)"
   ]
  },
  {
   "cell_type": "code",
   "execution_count": null,
   "id": "51e356db",
   "metadata": {},
   "outputs": [],
   "source": []
  },
  {
   "cell_type": "code",
   "execution_count": null,
   "id": "cdb6112f",
   "metadata": {},
   "outputs": [],
   "source": []
  }
 ],
 "metadata": {
  "kernelspec": {
   "display_name": "Python 3 (ipykernel)",
   "language": "python",
   "name": "python3"
  },
  "language_info": {
   "codemirror_mode": {
    "name": "ipython",
    "version": 3
   },
   "file_extension": ".py",
   "mimetype": "text/x-python",
   "name": "python",
   "nbconvert_exporter": "python",
   "pygments_lexer": "ipython3",
   "version": "3.8.10"
  }
 },
 "nbformat": 4,
 "nbformat_minor": 5
}
