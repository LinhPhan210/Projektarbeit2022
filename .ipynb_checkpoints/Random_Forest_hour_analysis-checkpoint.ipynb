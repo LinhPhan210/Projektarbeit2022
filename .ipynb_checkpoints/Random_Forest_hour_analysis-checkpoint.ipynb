{
 "cells": [
  {
   "cell_type": "markdown",
   "id": "569d1f5d",
   "metadata": {},
   "source": [
    "Check also decision tree classification"
   ]
  },
  {
   "cell_type": "code",
   "execution_count": 33,
   "id": "43ab55ab",
   "metadata": {},
   "outputs": [],
   "source": [
    "import numpy as np\n",
    "import matplotlib.pyplot as plt\n",
    "import pandas as pd"
   ]
  },
  {
   "cell_type": "code",
   "execution_count": 49,
   "id": "87fa9ac8",
   "metadata": {},
   "outputs": [],
   "source": [
    "datasets = pd.read_csv(\"./9_20_hour_classification_custom_window_data_information.csv\")\n",
    "X_data = [1,2,3,4,5]\n",
    "#X_data = [1,2,3]\n",
    "\n",
    "X = datasets.iloc[0:400, X_data].values\n",
    "Y = datasets.iloc[0:400, 7].values\n"
   ]
  },
  {
   "cell_type": "code",
   "execution_count": 38,
   "id": "069ecd9c",
   "metadata": {
    "scrolled": true
   },
   "outputs": [
    {
     "name": "stdout",
     "output_type": "stream",
     "text": [
      "1 0.83\n",
      "2 0.84\n",
      "3 0.87\n",
      "4 0.87\n",
      "5 0.86\n",
      "6 0.87\n",
      "7 0.87\n",
      "8 0.87\n",
      "9 0.87\n",
      "10 0.87\n",
      "11 0.87\n",
      "12 0.87\n",
      "13 0.87\n",
      "14 0.87\n",
      "15 0.87\n",
      "16 0.87\n",
      "17 0.87\n",
      "18 0.86\n",
      "19 0.86\n",
      "20 0.86\n",
      "21 0.86\n",
      "22 0.86\n",
      "23 0.86\n",
      "24 0.86\n",
      "25 0.86\n",
      "26 0.86\n",
      "27 0.86\n",
      "28 0.86\n",
      "29 0.86\n",
      "30 0.86\n",
      "31 0.86\n",
      "32 0.86\n",
      "33 0.86\n",
      "34 0.86\n",
      "35 0.86\n",
      "36 0.86\n",
      "37 0.86\n",
      "38 0.85\n",
      "39 0.85\n",
      "40 0.85\n",
      "41 0.85\n",
      "42 0.85\n",
      "43 0.86\n",
      "44 0.85\n",
      "45 0.86\n",
      "46 0.86\n",
      "47 0.86\n",
      "48 0.86\n",
      "49 0.86\n",
      "50 0.85\n",
      "51 0.85\n",
      "52 0.85\n",
      "53 0.85\n",
      "54 0.85\n",
      "55 0.85\n",
      "56 0.85\n",
      "57 0.85\n",
      "58 0.85\n",
      "59 0.85\n",
      "60 0.85\n",
      "61 0.85\n",
      "62 0.85\n",
      "63 0.85\n",
      "64 0.85\n",
      "65 0.85\n",
      "66 0.85\n",
      "67 0.85\n",
      "68 0.85\n",
      "69 0.85\n",
      "70 0.85\n",
      "71 0.85\n",
      "72 0.85\n",
      "73 0.85\n",
      "74 0.85\n",
      "75 0.85\n",
      "76 0.85\n",
      "77 0.85\n",
      "78 0.85\n",
      "79 0.85\n",
      "80 0.85\n",
      "81 0.85\n",
      "82 0.85\n",
      "83 0.85\n",
      "84 0.85\n",
      "85 0.85\n",
      "86 0.85\n",
      "87 0.85\n",
      "88 0.85\n",
      "89 0.85\n",
      "90 0.85\n",
      "91 0.85\n",
      "92 0.85\n",
      "93 0.85\n",
      "94 0.85\n",
      "95 0.85\n",
      "96 0.85\n",
      "97 0.85\n",
      "98 0.85\n",
      "99 0.85\n"
     ]
    }
   ],
   "source": [
    "# Splitting the dataset into the Training set and Test set\n",
    "\n",
    "from sklearn.model_selection import train_test_split\n",
    "X_Train, X_Test, Y_Train, Y_Test = train_test_split(X, Y, test_size = 0.25, random_state = 30)\n",
    "\n",
    "# Feature Scaling\n",
    "\n",
    "from sklearn.preprocessing import StandardScaler\n",
    "sc_X = StandardScaler()\n",
    "X_Train = sc_X.fit_transform(X_Train)\n",
    "X_Test = sc_X.transform(X_Test)\n",
    "\n",
    "# Fitting the classifier into the Training set\n",
    "from sklearn.ensemble import RandomForestClassifier\n",
    "\n",
    "for i in range(1,100):\n",
    "    classifier = RandomForestClassifier(n_estimators = i, criterion = 'entropy', random_state = 20)\n",
    "    classifier.fit(X_Train,Y_Train)\n",
    "\n",
    "    print(i, classifier.score(X_Test, Y_Test))"
   ]
  },
  {
   "cell_type": "code",
   "execution_count": 72,
   "id": "f29c86cf",
   "metadata": {},
   "outputs": [
    {
     "name": "stdout",
     "output_type": "stream",
     "text": [
      "0.9\n"
     ]
    }
   ],
   "source": [
    "# Splitting the dataset into the Training set and Test set\n",
    "\n",
    "#base on random state, n_estimators -> better or worse score ~0.85\n",
    "from sklearn.model_selection import train_test_split\n",
    "X_Train, X_Test, Y_Train, Y_Test = train_test_split(X, Y, test_size = 0.25, random_state = 5)\n",
    "\n",
    "# Feature Scaling\n",
    "\n",
    "from sklearn.preprocessing import StandardScaler\n",
    "sc_X = StandardScaler()\n",
    "X_Train = sc_X.fit_transform(X_Train)\n",
    "X_Test = sc_X.transform(X_Test)\n",
    "\n",
    "# Fitting the classifier into the Training set\n",
    "\n",
    "from sklearn.ensemble import RandomForestClassifier\n",
    "classifier = RandomForestClassifier(n_estimators = 8, criterion = 'entropy', random_state = 0)\n",
    "classifier.fit(X_Train,Y_Train)\n",
    "\n",
    "\n",
    "print(classifier.score(X_Test, Y_Test))\n",
    "# Predicting the test set results\n",
    "\n",
    "Y_Pred = classifier.predict(X_Test)\n"
   ]
  },
  {
   "cell_type": "code",
   "execution_count": 70,
   "id": "d7c70a90",
   "metadata": {},
   "outputs": [
    {
     "name": "stdout",
     "output_type": "stream",
     "text": [
      "[0. 0. 0. 0. 0. 0. 1. 0. 0. 0.]\n"
     ]
    }
   ],
   "source": [
    "X_t = datasets.iloc[385:395, X_data].values\n",
    "X_t = sc_X.transform(X_t)\n",
    "Y_p = classifier.predict(X_t)\n",
    "print(Y_p)"
   ]
  },
  {
   "cell_type": "code",
   "execution_count": null,
   "id": "2dade2e1",
   "metadata": {},
   "outputs": [],
   "source": []
  }
 ],
 "metadata": {
  "kernelspec": {
   "display_name": "Python 3 (ipykernel)",
   "language": "python",
   "name": "python3"
  },
  "language_info": {
   "codemirror_mode": {
    "name": "ipython",
    "version": 3
   },
   "file_extension": ".py",
   "mimetype": "text/x-python",
   "name": "python",
   "nbconvert_exporter": "python",
   "pygments_lexer": "ipython3",
   "version": "3.8.10"
  }
 },
 "nbformat": 4,
 "nbformat_minor": 5
}
