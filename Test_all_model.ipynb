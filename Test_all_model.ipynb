{
 "cells": [
  {
   "cell_type": "code",
   "execution_count": 1,
   "id": "52404637",
   "metadata": {},
   "outputs": [],
   "source": [
    "# Importing the libraries\n",
    "\n",
    "import numpy as np\n",
    "import matplotlib.pyplot as plt\n",
    "import pandas as pd\n",
    "\n",
    "# from sklearn.metrics import classification_report <- need to see how to use it"
   ]
  },
  {
   "cell_type": "code",
   "execution_count": 72,
   "id": "f1588a55",
   "metadata": {},
   "outputs": [],
   "source": [
    "# Importing the datasets\n",
    "# Dont use Feature max_data_index for the main classification. can be use later for undefined classification\n",
    "\n",
    "datasets = pd.read_csv(\"./9_20_hour_classification_custom_window_data_information.csv\")\n",
    "X = datasets.iloc[0:800, [1,2,3,4,5]].values \n",
    "Y = datasets.iloc[0:800, 7].values\n",
    "\n",
    "#with number of datasets = 400: score ~ 0.85\n",
    "#with number of datasets = 600: score ~ 0.9\n",
    "\n",
    "#what to do next: increase number of datasets to 800\n",
    "#number of datasets: 800\n"
   ]
  },
  {
   "cell_type": "markdown",
   "id": "efcc8214",
   "metadata": {},
   "source": [
    "```python\n",
    "#lower accuracy than custom window\n",
    "datasets = pd.read_csv(\"./9_20_hour_classification_tukey_window_data_information.csv\")\n",
    "X = datasets.iloc[0:400, [1,2,3,4,5]].values \n",
    "Y = datasets.iloc[0:400, 6].values\n",
    "```"
   ]
  },
  {
   "cell_type": "markdown",
   "id": "fd938574",
   "metadata": {},
   "source": [
    "```python\n",
    "#pure data has worse performance\n",
    "datasets = pd.read_csv(\"./9_20_hour_classification_pure_data.csv\")\n",
    "X = datasets.iloc[0:400, [1,2,3,4,5,6,7,8]].values \n",
    "Y = datasets.iloc[0:400, 9].values\n",
    "```"
   ]
  },
  {
   "cell_type": "code",
   "execution_count": 73,
   "id": "37dd3937",
   "metadata": {},
   "outputs": [],
   "source": [
    "from sklearn.model_selection import train_test_split\n",
    "X_Train, X_Test, Y_Train, Y_Test = train_test_split(X, Y, test_size = 0.25, random_state = 40 )\n",
    "\n",
    "#Standard scaler\n",
    "from sklearn.preprocessing import StandardScaler\n",
    "Standard_scaler = StandardScaler()\n",
    "X_Train_sc = Standard_scaler.fit_transform(X_Train)\n",
    "X_Test_sc = Standard_scaler.transform(X_Test)\n",
    "\n",
    "#Normalizing\n",
    "\n",
    "from sklearn.preprocessing import MinMaxScaler\n",
    "MM_scaler = MinMaxScaler()\n",
    "X_Train_sc = MM_scaler.fit_transform(X_Train_sc)\n",
    "X_Test_sc = MM_scaler.transform(X_Test_sc)"
   ]
  },
  {
   "cell_type": "code",
   "execution_count": 66,
   "id": "79a1ed33",
   "metadata": {},
   "outputs": [
    {
     "name": "stdout",
     "output_type": "stream",
     "text": [
      "0.8533333333333334\n"
     ]
    }
   ],
   "source": [
    "#SVM\n",
    "\n",
    "from sklearn import svm\n",
    "\n",
    "model_SVM = svm.SVC(kernel=\"rbf\",C=1.0)\n",
    "model_SVM.fit(X_Train_sc, Y_Train)\n",
    "\n",
    "print(model_SVM.score(X_Test_sc, Y_Test))"
   ]
  },
  {
   "cell_type": "code",
   "execution_count": 67,
   "id": "6547a455",
   "metadata": {},
   "outputs": [
    {
     "name": "stdout",
     "output_type": "stream",
     "text": [
      "0.88\n"
     ]
    },
    {
     "name": "stderr",
     "output_type": "stream",
     "text": [
      "/home/manhlinhphan/.local/lib/python3.8/site-packages/sklearn/neural_network/_multilayer_perceptron.py:692: ConvergenceWarning: Stochastic Optimizer: Maximum iterations (200) reached and the optimization hasn't converged yet.\n",
      "  warnings.warn(\n"
     ]
    }
   ],
   "source": [
    "#Neural network\n",
    "\n",
    "from sklearn import neural_network\n",
    "\n",
    "#Multilayer Perceptron Classifier\n",
    "model_NN = neural_network.MLPClassifier(hidden_layer_sizes=(100,100,100))\n",
    "model_NN.fit(X_Train_sc, Y_Train)\n",
    "\n",
    "print(model_NN.score(X_Test_sc, Y_Test))"
   ]
  },
  {
   "cell_type": "code",
   "execution_count": 68,
   "id": "0ded7985",
   "metadata": {},
   "outputs": [
    {
     "name": "stdout",
     "output_type": "stream",
     "text": [
      "0.92\n"
     ]
    }
   ],
   "source": [
    "#Random Forest\n",
    "\n",
    "from sklearn.ensemble import RandomForestClassifier\n",
    "model_RF = RandomForestClassifier(n_estimators = 8, criterion = 'entropy', random_state = 0)\n",
    "model_RF.fit(X_Train_sc,Y_Train)\n",
    "\n",
    "\n",
    "print(model_RF.score(X_Test_sc, Y_Test))"
   ]
  },
  {
   "cell_type": "markdown",
   "id": "5de48d5a",
   "metadata": {},
   "source": [
    "```python\n",
    "#Gaussian Naive Bayes ->  low accuracy\n",
    "\n",
    "from sklearn.naive_bayes import GaussianNB\n",
    "\n",
    "model_GNB = GaussianNB()\n",
    "model_GNB.fit(X_Train_sc,Y_Train)\n",
    "\n",
    "print(model_GNB.score(X_Test_sc, Y_Test))\n",
    "```"
   ]
  },
  {
   "cell_type": "code",
   "execution_count": 69,
   "id": "6859e750",
   "metadata": {},
   "outputs": [
    {
     "name": "stdout",
     "output_type": "stream",
     "text": [
      "0.8666666666666667\n"
     ]
    }
   ],
   "source": [
    "#k-Nearest Neighbors -> low accuracy\n",
    "\n",
    "from sklearn.neighbors import KNeighborsClassifier\n",
    "from scipy.spatial import distance\n",
    "\n",
    "model_kNN = KNeighborsClassifier(n_neighbors=8, metric=distance.cityblock)\n",
    "model_kNN.fit(X_Train_sc,Y_Train)\n",
    "\n",
    "print(model_kNN.score(X_Test_sc, Y_Test))"
   ]
  },
  {
   "cell_type": "markdown",
   "id": "c36faf6b",
   "metadata": {},
   "source": [
    "```python\n",
    "#Logistic Regression -> low accuracy\n",
    "from sklearn.linear_model import LogisticRegression\n",
    "\n",
    "model_LG = LogisticRegression(solver='liblinear', random_state=0)\n",
    "model_LG.fit(X_Train_sc, Y_Train)\n",
    "\n",
    "print(model_LG.score(X_Test_sc, Y_Test))\n",
    "```"
   ]
  },
  {
   "cell_type": "code",
   "execution_count": 70,
   "id": "cd948e2f",
   "metadata": {},
   "outputs": [
    {
     "name": "stdout",
     "output_type": "stream",
     "text": [
      "0.9066666666666666\n"
     ]
    }
   ],
   "source": [
    "#Decision Tree\n",
    "from sklearn.tree import DecisionTreeClassifier\n",
    "\n",
    "model_DT = DecisionTreeClassifier()\n",
    "model_DT.fit(X_Train_sc,Y_Train)\n",
    "\n",
    "print(model_DT.score(X_Test_sc, Y_Test))"
   ]
  },
  {
   "cell_type": "code",
   "execution_count": 71,
   "id": "e5ea977a",
   "metadata": {},
   "outputs": [
    {
     "name": "stdout",
     "output_type": "stream",
     "text": [
      "0.88\n"
     ]
    }
   ],
   "source": [
    "# Using VotingClassifier with Highest Classifier\n",
    "\n",
    "from sklearn.ensemble import VotingClassifier\n",
    "\n",
    "model_VC=VotingClassifier(estimators=[('SVM',model_SVM),('kNN',model_kNN),('RF',model_RF)])\n",
    "model_VC.fit(X_Train_sc, Y_Train)\n",
    "\n",
    "print(model_VC.score(X_Test_sc, Y_Test))"
   ]
  },
  {
   "cell_type": "code",
   "execution_count": 138,
   "id": "de6b84cc",
   "metadata": {},
   "outputs": [],
   "source": [
    "#this accuracy is stand alone value. to increas it, need to look at the neighbor."
   ]
  },
  {
   "cell_type": "code",
   "execution_count": null,
   "id": "23520a4d",
   "metadata": {},
   "outputs": [],
   "source": []
  }
 ],
 "metadata": {
  "kernelspec": {
   "display_name": "Python 3 (ipykernel)",
   "language": "python",
   "name": "python3"
  },
  "language_info": {
   "codemirror_mode": {
    "name": "ipython",
    "version": 3
   },
   "file_extension": ".py",
   "mimetype": "text/x-python",
   "name": "python",
   "nbconvert_exporter": "python",
   "pygments_lexer": "ipython3",
   "version": "3.8.10"
  }
 },
 "nbformat": 4,
 "nbformat_minor": 5
}
