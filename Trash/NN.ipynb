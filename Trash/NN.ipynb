{
 "cells": [
  {
   "cell_type": "code",
   "execution_count": 2,
   "id": "1d95f0ba",
   "metadata": {},
   "outputs": [],
   "source": [
    "import numpy as np\n",
    "import matplotlib.pyplot as plt\n",
    "import pandas as pd"
   ]
  },
  {
   "cell_type": "code",
   "execution_count": 5,
   "id": "97932107",
   "metadata": {},
   "outputs": [],
   "source": [
    "# Importing the datasets\n",
    "\n",
    "datasets = pd.read_csv(\"./test.csv\")\n",
    "X = datasets.iloc[0:365, list(range(2,102))].values #test 2019-H1\n",
    "Y = datasets.iloc[0:365, 102].values\n",
    "\n",
    "X = X.astype(float)\n",
    "Y = Y.astype(float)\n",
    "\n",
    "import sklearn.model_selection\n",
    "\n",
    "X_train, X_test, Y_train, Y_test = sklearn.model_selection.train_test_split(X,Y, test_size=0.25, random_state=42)\n",
    "\n",
    "from sklearn.preprocessing import StandardScaler\n",
    "\n",
    "#calculate mean and Standard deviation\n",
    "scaler = StandardScaler()\n",
    "\n",
    "scaler.fit(X_train)\n",
    "\n",
    "X_train = scaler.transform(X_train)\n",
    "X_test = scaler.transform(X_test)\n",
    "\n",
    "# should we use PCA (principal component analysis)?\n",
    "\n",
    "from sklearn import neural_network\n",
    "\n",
    "#Multilayer Perceptron Classifier\n",
    "model = neural_network.MLPClassifier(hidden_layer_sizes=(50,50,50))\n",
    "model.fit(X_train, Y_train)\n",
    "\n",
    "print(model.score(X_test, Y_test))"
   ]
  },
  {
   "cell_type": "code",
   "execution_count": 16,
   "id": "52533ca8",
   "metadata": {},
   "outputs": [
    {
     "name": "stdout",
     "output_type": "stream",
     "text": [
      "0.88\n"
     ]
    },
    {
     "name": "stderr",
     "output_type": "stream",
     "text": [
      "/home/manhlinhphan/.local/lib/python3.8/site-packages/sklearn/neural_network/_multilayer_perceptron.py:692: ConvergenceWarning: Stochastic Optimizer: Maximum iterations (200) reached and the optimization hasn't converged yet.\n",
      "  warnings.warn(\n"
     ]
    }
   ],
   "source": [
    "datasets = pd.read_csv(\"./9_20_hour_classification_custom_window_data_information.csv\")\n",
    "X = datasets.iloc[0:400, [1,2,3,4,5]].values #test 2019-H1\n",
    "Y = datasets.iloc[0:400, 7].values\n",
    "\n",
    "import sklearn.model_selection\n",
    "\n",
    "X_train, X_test, Y_train, Y_test = sklearn.model_selection.train_test_split(X,Y, test_size=0.25, random_state=2)\n",
    "\n",
    "from sklearn.preprocessing import StandardScaler\n",
    "\n",
    "#calculate mean and Standard deviation\n",
    "scaler = StandardScaler()\n",
    "\n",
    "scaler.fit(X_train)\n",
    "\n",
    "X_train = scaler.transform(X_train)\n",
    "X_test = scaler.transform(X_test)\n",
    "\n",
    "# should we use PCA (principal component analysis)?\n",
    "\n",
    "from sklearn import neural_network\n",
    "\n",
    "#Multilayer Perceptron Classifier\n",
    "model = neural_network.MLPClassifier(hidden_layer_sizes=(100,100,100))\n",
    "model.fit(X_train, Y_train)\n",
    "\n",
    "print(model.score(X_test, Y_test))"
   ]
  },
  {
   "cell_type": "code",
   "execution_count": null,
   "id": "c63b0326",
   "metadata": {},
   "outputs": [],
   "source": []
  },
  {
   "cell_type": "code",
   "execution_count": null,
   "id": "bb888c01",
   "metadata": {},
   "outputs": [],
   "source": []
  }
 ],
 "metadata": {
  "kernelspec": {
   "display_name": "Python 3 (ipykernel)",
   "language": "python",
   "name": "python3"
  },
  "language_info": {
   "codemirror_mode": {
    "name": "ipython",
    "version": 3
   },
   "file_extension": ".py",
   "mimetype": "text/x-python",
   "name": "python",
   "nbconvert_exporter": "python",
   "pygments_lexer": "ipython3",
   "version": "3.8.10"
  }
 },
 "nbformat": 4,
 "nbformat_minor": 5
}
